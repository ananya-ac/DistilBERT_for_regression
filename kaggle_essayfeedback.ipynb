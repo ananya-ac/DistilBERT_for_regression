{
 "cells": [
  {
   "cell_type": "code",
   "execution_count": 1,
   "id": "88e4e0cd",
   "metadata": {
    "execution": {
     "iopub.execute_input": "2022-10-07T08:39:26.961854Z",
     "iopub.status.busy": "2022-10-07T08:39:26.961320Z",
     "iopub.status.idle": "2022-10-07T08:39:31.286765Z",
     "shell.execute_reply": "2022-10-07T08:39:31.285674Z",
     "shell.execute_reply.started": "2022-10-07T08:39:26.961732Z"
    }
   },
   "outputs": [],
   "source": [
    "import pandas as pd\n",
    "import numpy as np\n",
    "from transformers import DistilBertTokenizer, DistilBertModel,DistilBertConfig\n",
    "import torch\n",
    "import torch.nn as nn\n",
    "import torch.nn.functional as F\n",
    "from torch.utils.data import Dataset,DataLoader\n",
    "from fastai.text.all import *\n",
    "import pdb"
   ]
  },
  {
   "cell_type": "code",
   "execution_count": 2,
   "id": "7f0e87e5",
   "metadata": {
    "execution": {
     "iopub.execute_input": "2022-10-07T08:40:10.846533Z",
     "iopub.status.busy": "2022-10-07T08:40:10.845162Z",
     "iopub.status.idle": "2022-10-07T08:40:10.852656Z",
     "shell.execute_reply": "2022-10-07T08:40:10.851090Z",
     "shell.execute_reply.started": "2022-10-07T08:40:10.846479Z"
    }
   },
   "outputs": [],
   "source": [
    "torch.cuda.empty_cache()"
   ]
  },
  {
   "cell_type": "code",
   "execution_count": 3,
   "id": "f517b60f",
   "metadata": {
    "execution": {
     "iopub.execute_input": "2022-10-07T08:40:13.196984Z",
     "iopub.status.busy": "2022-10-07T08:40:13.196613Z",
     "iopub.status.idle": "2022-10-07T08:40:16.253379Z",
     "shell.execute_reply": "2022-10-07T08:40:16.252174Z",
     "shell.execute_reply.started": "2022-10-07T08:40:13.196953Z"
    }
   },
   "outputs": [
    {
     "data": {
      "text/plain": [
       "(16395272192, 17071734784)"
      ]
     },
     "execution_count": 3,
     "metadata": {},
     "output_type": "execute_result"
    }
   ],
   "source": [
    "torch.cuda.mem_get_info()"
   ]
  },
  {
   "cell_type": "code",
   "execution_count": 4,
   "id": "3d2400d7",
   "metadata": {
    "execution": {
     "iopub.execute_input": "2022-10-07T08:40:17.963432Z",
     "iopub.status.busy": "2022-10-07T08:40:17.963050Z",
     "iopub.status.idle": "2022-10-07T08:40:18.177071Z",
     "shell.execute_reply": "2022-10-07T08:40:18.175981Z",
     "shell.execute_reply.started": "2022-10-07T08:40:17.963400Z"
    }
   },
   "outputs": [],
   "source": [
    "essays_df=pd.read_csv('../input/feedback-prize-english-language-learning/train.csv')"
   ]
  },
  {
   "cell_type": "code",
   "execution_count": null,
   "id": "4ca2ff04",
   "metadata": {
    "jupyter": {
     "source_hidden": true
    },
    "tags": []
   },
   "outputs": [],
   "source": [
    "main_df=essays_df[['cohesion','syntax','vocabulary','phraseology','grammar','conventions']]"
   ]
  },
  {
   "cell_type": "code",
   "execution_count": null,
   "id": "c084d82f",
   "metadata": {
    "jupyter": {
     "source_hidden": true
    },
    "tags": []
   },
   "outputs": [],
   "source": [
    "essays_df[['cohesion','syntax','vocabulary','phraseology','grammar','conventions']].values[0]"
   ]
  },
  {
   "cell_type": "code",
   "execution_count": null,
   "id": "5da7d132",
   "metadata": {
    "jupyter": {
     "source_hidden": true
    },
    "tags": []
   },
   "outputs": [],
   "source": [
    "main_df['labels']=main_df.values.tolist()"
   ]
  },
  {
   "cell_type": "code",
   "execution_count": null,
   "id": "5752d839",
   "metadata": {
    "jupyter": {
     "source_hidden": true
    },
    "tags": []
   },
   "outputs": [],
   "source": [
    "main_df.drop(['cohesion','syntax','vocabulary','phraseology','grammar','conventions'],axis='columns',inplace=True)"
   ]
  },
  {
   "cell_type": "code",
   "execution_count": null,
   "id": "6614d0ee",
   "metadata": {
    "jupyter": {
     "source_hidden": true
    },
    "tags": []
   },
   "outputs": [],
   "source": [
    "main_df.insert(loc=0,column='x',value=essays_df['full_text'])"
   ]
  },
  {
   "cell_type": "code",
   "execution_count": null,
   "id": "f65d2bb4",
   "metadata": {
    "jupyter": {
     "source_hidden": true
    },
    "tags": []
   },
   "outputs": [],
   "source": [
    "main_df['labels']=main_df['labels'].apply(lambda x:np.array(x))"
   ]
  },
  {
   "cell_type": "code",
   "execution_count": null,
   "id": "209b64b8",
   "metadata": {
    "jupyter": {
     "source_hidden": true
    },
    "tags": []
   },
   "outputs": [],
   "source": [
    "def split(df,split=0.1):\n",
    "    split_idx=round(len(df)*split)\n",
    "    return df.iloc[0:split_idx],df.iloc[split_idx:]\n"
   ]
  },
  {
   "cell_type": "code",
   "execution_count": null,
   "id": "80220042",
   "metadata": {
    "jupyter": {
     "source_hidden": true
    },
    "tags": []
   },
   "outputs": [],
   "source": [
    "df_eval,df_train=split(main_df)"
   ]
  },
  {
   "cell_type": "code",
   "execution_count": null,
   "id": "314cdd55",
   "metadata": {
    "jupyter": {
     "source_hidden": true
    },
    "tags": []
   },
   "outputs": [],
   "source": [
    "checkpoint=\"bert-base-uncased\""
   ]
  },
  {
   "cell_type": "code",
   "execution_count": null,
   "id": "43c0dae1",
   "metadata": {
    "jupyter": {
     "source_hidden": true
    },
    "tags": []
   },
   "outputs": [],
   "source": [
    "train_dataset=Dataset.from_pandas(df_train)\n",
    "eval_dataset=Dataset.from_pandas(df_eval)"
   ]
  },
  {
   "cell_type": "code",
   "execution_count": null,
   "id": "e359bb22",
   "metadata": {
    "jupyter": {
     "source_hidden": true
    },
    "tags": []
   },
   "outputs": [],
   "source": [
    "def tokenize_things(ds):\n",
    "    return tokenizer(ds['x'],truncation=True)"
   ]
  },
  {
   "cell_type": "code",
   "execution_count": null,
   "id": "59f5b46c",
   "metadata": {
    "jupyter": {
     "source_hidden": true
    },
    "tags": []
   },
   "outputs": [],
   "source": [
    "def compute_metrics(eval_preds):\n",
    "    logits,tgts=eval_preds\n",
    "    return mean_squared_error(logits,tgts,squared=False)\n",
    "    "
   ]
  },
  {
   "cell_type": "code",
   "execution_count": null,
   "id": "3fe1f77e",
   "metadata": {
    "jupyter": {
     "source_hidden": true
    },
    "tags": []
   },
   "outputs": [],
   "source": [
    "train_dataset=train_dataset.map(tokenize_things)\n",
    "eval_dataset=eval_dataset.map(tokenize_things)\n"
   ]
  },
  {
   "cell_type": "code",
   "execution_count": null,
   "id": "c947739e",
   "metadata": {
    "jupyter": {
     "source_hidden": true
    },
    "tags": []
   },
   "outputs": [],
   "source": [
    "train_dataset=train_dataset.remove_columns('x')\n",
    "eval_dataset=eval_dataset.remove_columns('x')"
   ]
  },
  {
   "cell_type": "code",
   "execution_count": null,
   "id": "e5bb2b25",
   "metadata": {
    "jupyter": {
     "source_hidden": true
    },
    "tags": []
   },
   "outputs": [],
   "source": [
    "train_dataset.features"
   ]
  },
  {
   "cell_type": "code",
   "execution_count": null,
   "id": "a1d4f5a7",
   "metadata": {
    "jupyter": {
     "source_hidden": true
    },
    "tags": []
   },
   "outputs": [],
   "source": [
    "from datasets import Value,Array2D,ClassLabel"
   ]
  },
  {
   "cell_type": "code",
   "execution_count": null,
   "id": "e6df2ac2",
   "metadata": {
    "jupyter": {
     "source_hidden": true
    },
    "tags": []
   },
   "outputs": [],
   "source": [
    "train_dataset = train_dataset.cast_column(\"labels\", ClassLabel(num_classes=9, names=['bad', 'ok', 'good'], dtype='float64'))\n",
    "eval_dataset = eval_dataset.cast_column(\"labels\", Array(shape=(6,1), dtype='float64'))"
   ]
  },
  {
   "cell_type": "code",
   "execution_count": null,
   "id": "0721d623",
   "metadata": {
    "jupyter": {
     "source_hidden": true
    },
    "tags": []
   },
   "outputs": [],
   "source": [
    "\n",
    "training_args = TrainingArguments(\"test-trainer\", evaluation_strategy=\"epoch\",overwrite_output_dir=True)\n",
    "model = BERTModelForEssayGrading(checkpoint)\n",
    "\n",
    "trainer = Trainer(\n",
    "    model,\n",
    "    training_args,\n",
    "    train_dataset=train_dataset,\n",
    "    eval_dataset=eval_dataset,\n",
    "    data_collator=data_collator,\n",
    "    tokenizer=tokenizer,\n",
    "    compute_metrics=compute_metrics,\n",
    "    \n",
    ")"
   ]
  },
  {
   "cell_type": "code",
   "execution_count": null,
   "id": "e404a36b",
   "metadata": {
    "jupyter": {
     "source_hidden": true
    },
    "tags": []
   },
   "outputs": [],
   "source": [
    "trainer.evaluate()"
   ]
  },
  {
   "cell_type": "code",
   "execution_count": null,
   "id": "97785e9b",
   "metadata": {
    "jupyter": {
     "source_hidden": true
    },
    "tags": []
   },
   "outputs": [],
   "source": [
    "train_dataset[0]"
   ]
  },
  {
   "cell_type": "code",
   "execution_count": null,
   "id": "54817d5b",
   "metadata": {
    "jupyter": {
     "source_hidden": true
    },
    "tags": []
   },
   "outputs": [],
   "source": [
    "class MyTrainer(Trainer):\n",
    "    def compute_loss(preds,targs):\n",
    "        return F.mse_loss(preds,targs)"
   ]
  },
  {
   "cell_type": "code",
   "execution_count": null,
   "id": "99c45b68",
   "metadata": {
    "jupyter": {
     "source_hidden": true
    },
    "tags": []
   },
   "outputs": [],
   "source": [
    "trainer.predict(eval_dataset)"
   ]
  },
  {
   "cell_type": "code",
   "execution_count": null,
   "id": "0701f35e",
   "metadata": {
    "jupyter": {
     "source_hidden": true
    },
    "tags": []
   },
   "outputs": [],
   "source": [
    "checkpoint=\"distilbert-base-uncased\"\n",
    "model=DistilBertModel.from_pretrained(checkpoint).to('cuda')"
   ]
  },
  {
   "cell_type": "code",
   "execution_count": 22,
   "id": "8355cd97",
   "metadata": {
    "execution": {
     "iopub.execute_input": "2022-10-07T08:45:39.251632Z",
     "iopub.status.busy": "2022-10-07T08:45:39.251121Z",
     "iopub.status.idle": "2022-10-07T08:45:39.265439Z",
     "shell.execute_reply": "2022-10-07T08:45:39.264265Z",
     "shell.execute_reply.started": "2022-10-07T08:45:39.251591Z"
    },
    "tags": []
   },
   "outputs": [],
   "source": [
    "class BERTModelForEssayGrading(nn.Module):\n",
    "    def __init__(self, config):\n",
    "        super(BERTModelForEssayGrading,self).__init__()\n",
    "        self.cconfig=config\n",
    "        self.model=DistilBertModel(config)\n",
    "        \n",
    "        self.dropout=nn.Dropout(0.25)\n",
    "        self.linear=nn.Linear(768,6)\n",
    "        \n",
    "    def forward(self,inp):\n",
    "       \n",
    "            ids=inp[:,:,0]\n",
    "            mask=inp[:,:,1]\n",
    "            #token_type_ids=input_dict['token_type_ids']\n",
    "            outs=self.model(ids,mask)\n",
    "            states = outs[1]\n",
    "            pooled_output = torch.cat([states[i] for i in [-4, -3, -2, -1]], dim=1).mean(dim=1)\n",
    "            \n",
    "           \n",
    "            #pooled_output = pooled_output[:, 0, :]\n",
    "            pooled_output = self.dropout(pooled_output)\n",
    "            return self.linear(pooled_output)\n",
    "     \n",
    "    \n",
    "    "
   ]
  },
  {
   "cell_type": "code",
   "execution_count": 6,
   "id": "7fa8dedb",
   "metadata": {
    "execution": {
     "iopub.execute_input": "2022-10-07T08:40:32.622489Z",
     "iopub.status.busy": "2022-10-07T08:40:32.622071Z",
     "iopub.status.idle": "2022-10-07T08:40:32.633289Z",
     "shell.execute_reply": "2022-10-07T08:40:32.632297Z",
     "shell.execute_reply.started": "2022-10-07T08:40:32.622454Z"
    }
   },
   "outputs": [],
   "source": [
    "class BERTDataset(Dataset):\n",
    "    \n",
    "    \n",
    "    @staticmethod\n",
    "    def tokenize_things(sequence):\n",
    "        if type(sequence)==str:\n",
    "            return tokenizer(sequence,padding='max_length',truncation=True,max_length=512)\n",
    "        return tokenizer(sequence,truncation=True,padding=True,max_length=512)\n",
    "    \n",
    "    \n",
    "    \n",
    "    def __init__(self,df):\n",
    "        self.df=df\n",
    "        \n",
    "        \n",
    "    \n",
    "    def __len__(self):\n",
    "        return len(self.df)\n",
    "    \n",
    "    def __getitem__(self,idx):\n",
    "        text=self.df['full_text'].iloc[idx]\n",
    "        tokenized_text=self.tokenize_things(text)\n",
    "        tokenized_text['input_ids']=torch.tensor(tokenized_text['input_ids']).to(dtype=torch.int32)\n",
    "        tokenized_text['attention_mask']=torch.tensor(tokenized_text['attention_mask']).to(dtype=torch.int32)\n",
    "        #tokenized_text['token_type_ids']=torch.tensor(tokenized_text['token_type_ids']).to(dtype=torch.int32)\n",
    "        labels=self.df[['cohesion','syntax','vocabulary','phraseology','grammar','conventions']].values[idx]\n",
    "       \n",
    "        return torch.stack((tokenized_text['input_ids'],tokenized_text['attention_mask']),dim=1), torch.tensor(labels).to(dtype=torch.float32)\n",
    "        \n",
    "    \n",
    "    def train_eval_split(self,pct=0.1):\n",
    "        length=len(self.df)\n",
    "        num_tests=round(length*pct)\n",
    "        test_idx=np.random.choice(range(length),num_tests,replace=False)\n",
    "        train_idx=[idx for idx in range(length) if idx not in test_idx]\n",
    "        #pdb.set_trace()\n",
    "        return BERTDataset(self.df.iloc[test_idx]),BERTDataset(self.df.iloc[train_idx])\n",
    "    \n",
    "    \n",
    "        \n",
    "        \n",
    "        \n",
    "        \n",
    "        "
   ]
  },
  {
   "cell_type": "code",
   "execution_count": 23,
   "id": "475e89cc",
   "metadata": {
    "execution": {
     "iopub.execute_input": "2022-10-07T08:45:43.458295Z",
     "iopub.status.busy": "2022-10-07T08:45:43.457816Z",
     "iopub.status.idle": "2022-10-07T08:45:46.878915Z",
     "shell.execute_reply": "2022-10-07T08:45:46.877671Z",
     "shell.execute_reply.started": "2022-10-07T08:45:43.458237Z"
    }
   },
   "outputs": [],
   "source": [
    "config=DistilBertConfig(output_hidden_states=True)\n",
    "if torch.cuda.is_available():\n",
    "    device='cuda'\n",
    "else:\n",
    "    device='cpu'\n",
    "model=BERTModelForEssayGrading(config).to(device)\n",
    "#model=DistilBertModel(config).to(device,dtype=torch.float32)\n",
    "checkpoint=\"distilbert-base-uncased\"\n",
    "tokenizer = DistilBertTokenizer.from_pretrained(checkpoint)"
   ]
  },
  {
   "cell_type": "code",
   "execution_count": 65,
   "id": "743dc65b",
   "metadata": {
    "jupyter": {
     "source_hidden": true
    },
    "tags": []
   },
   "outputs": [],
   "source": [
    "#if torch.cuda.is_available():\n",
    "#    device='cuda'\n",
    "\n",
    "#model=BERTModelForEssayGrading(checkpoint).to(device,dtype=torch.float32)"
   ]
  },
  {
   "cell_type": "code",
   "execution_count": 8,
   "id": "e593c147",
   "metadata": {
    "execution": {
     "iopub.execute_input": "2022-10-07T08:40:44.794414Z",
     "iopub.status.busy": "2022-10-07T08:40:44.794013Z",
     "iopub.status.idle": "2022-10-07T08:40:44.799388Z",
     "shell.execute_reply": "2022-10-07T08:40:44.798209Z",
     "shell.execute_reply.started": "2022-10-07T08:40:44.794379Z"
    }
   },
   "outputs": [],
   "source": [
    "ds=BERTDataset(essays_df)"
   ]
  },
  {
   "cell_type": "code",
   "execution_count": 10,
   "id": "487bbbfa",
   "metadata": {
    "execution": {
     "iopub.execute_input": "2022-10-07T08:40:59.187149Z",
     "iopub.status.busy": "2022-10-07T08:40:59.186768Z",
     "iopub.status.idle": "2022-10-07T08:40:59.211404Z",
     "shell.execute_reply": "2022-10-07T08:40:59.210521Z",
     "shell.execute_reply.started": "2022-10-07T08:40:59.187117Z"
    }
   },
   "outputs": [],
   "source": [
    "ds_eval,ds_train=ds.train_eval_split(0.25)"
   ]
  },
  {
   "cell_type": "code",
   "execution_count": 11,
   "id": "462f4400",
   "metadata": {
    "execution": {
     "iopub.execute_input": "2022-10-07T08:41:02.089447Z",
     "iopub.status.busy": "2022-10-07T08:41:02.089073Z",
     "iopub.status.idle": "2022-10-07T08:41:02.096281Z",
     "shell.execute_reply": "2022-10-07T08:41:02.095295Z",
     "shell.execute_reply.started": "2022-10-07T08:41:02.089416Z"
    }
   },
   "outputs": [
    {
     "data": {
      "text/plain": [
       "3911"
      ]
     },
     "execution_count": 11,
     "metadata": {},
     "output_type": "execute_result"
    }
   ],
   "source": [
    "len(ds_train)+len(ds_eval)"
   ]
  },
  {
   "cell_type": "code",
   "execution_count": 12,
   "id": "3ef21df1",
   "metadata": {
    "execution": {
     "iopub.execute_input": "2022-10-07T08:41:04.677502Z",
     "iopub.status.busy": "2022-10-07T08:41:04.676507Z",
     "iopub.status.idle": "2022-10-07T08:41:04.683925Z",
     "shell.execute_reply": "2022-10-07T08:41:04.682887Z",
     "shell.execute_reply.started": "2022-10-07T08:41:04.677467Z"
    }
   },
   "outputs": [],
   "source": [
    "dls=TextDataLoaders.from_dsets(ds_train,ds_eval,bs=16,device=device)"
   ]
  },
  {
   "cell_type": "code",
   "execution_count": 13,
   "id": "8a8b76e3",
   "metadata": {
    "execution": {
     "iopub.execute_input": "2022-10-07T08:41:09.100747Z",
     "iopub.status.busy": "2022-10-07T08:41:09.100388Z",
     "iopub.status.idle": "2022-10-07T08:41:09.106110Z",
     "shell.execute_reply": "2022-10-07T08:41:09.104959Z",
     "shell.execute_reply.started": "2022-10-07T08:41:09.100717Z"
    }
   },
   "outputs": [],
   "source": [
    "def loss_fn(outputs, targets):\n",
    "    colwise_mse = torch.mean(torch.square(targets - outputs), dim=0)\n",
    "    loss = torch.mean(torch.sqrt(colwise_mse), dim=0)\n",
    "    return loss"
   ]
  },
  {
   "cell_type": "code",
   "execution_count": 26,
   "id": "a7d8013c",
   "metadata": {
    "execution": {
     "iopub.execute_input": "2022-10-07T08:48:04.260525Z",
     "iopub.status.busy": "2022-10-07T08:48:04.259823Z",
     "iopub.status.idle": "2022-10-07T08:48:04.271048Z",
     "shell.execute_reply": "2022-10-07T08:48:04.269792Z",
     "shell.execute_reply.started": "2022-10-07T08:48:04.260468Z"
    }
   },
   "outputs": [],
   "source": [
    "text_learner=Learner(dls=dls,model=model,loss_func=loss_fn,lr=2e-4)"
   ]
  },
  {
   "cell_type": "code",
   "execution_count": 25,
   "id": "769673f3",
   "metadata": {
    "execution": {
     "iopub.execute_input": "2022-10-07T08:46:22.096618Z",
     "iopub.status.busy": "2022-10-07T08:46:22.096012Z",
     "iopub.status.idle": "2022-10-07T08:47:05.780906Z",
     "shell.execute_reply": "2022-10-07T08:47:05.779752Z",
     "shell.execute_reply.started": "2022-10-07T08:46:22.096570Z"
    }
   },
   "outputs": [
    {
     "data": {
      "text/html": [
       "\n",
       "<style>\n",
       "    /* Turns off some styling */\n",
       "    progress {\n",
       "        /* gets rid of default border in Firefox and Opera. */\n",
       "        border: none;\n",
       "        /* Needs to be in here for Safari polyfill so background images work as expected. */\n",
       "        background-size: auto;\n",
       "    }\n",
       "    progress:not([value]), progress:not([value])::-webkit-progress-bar {\n",
       "        background: repeating-linear-gradient(45deg, #7e7e7e, #7e7e7e 10px, #5c5c5c 10px, #5c5c5c 20px);\n",
       "    }\n",
       "    .progress-bar-interrupted, .progress-bar-interrupted::-webkit-progress-bar {\n",
       "        background: #F44336;\n",
       "    }\n",
       "</style>\n"
      ],
      "text/plain": [
       "<IPython.core.display.HTML object>"
      ]
     },
     "metadata": {},
     "output_type": "display_data"
    },
    {
     "data": {
      "text/html": [],
      "text/plain": [
       "<IPython.core.display.HTML object>"
      ]
     },
     "metadata": {},
     "output_type": "display_data"
    },
    {
     "data": {
      "text/plain": [
       "SuggestedLRs(valley=0.00013182566908653826)"
      ]
     },
     "execution_count": 25,
     "metadata": {},
     "output_type": "execute_result"
    },
    {
     "data": {
      "image/png": "[encoded data removed]",
      "text/plain": [
       "<Figure size 432x288 with 1 Axes>"
      ]
     },
     "metadata": {
      "needs_background": "light"
     },
     "output_type": "display_data"
    }
   ],
   "source": [
    "text_learner.lr_find()"
   ]
  },
  {
   "cell_type": "code",
   "execution_count": 27,
   "id": "b91d378d",
   "metadata": {
    "execution": {
     "iopub.execute_input": "2022-10-07T08:48:12.259872Z",
     "iopub.status.busy": "2022-10-07T08:48:12.259412Z",
     "iopub.status.idle": "2022-10-07T08:51:30.796059Z",
     "shell.execute_reply": "2022-10-07T08:51:30.794879Z",
     "shell.execute_reply.started": "2022-10-07T08:48:12.259831Z"
    }
   },
   "outputs": [
    {
     "data": {
      "text/html": [
       "\n",
       "<style>\n",
       "    /* Turns off some styling */\n",
       "    progress {\n",
       "        /* gets rid of default border in Firefox and Opera. */\n",
       "        border: none;\n",
       "        /* Needs to be in here for Safari polyfill so background images work as expected. */\n",
       "        background-size: auto;\n",
       "    }\n",
       "    progress:not([value]), progress:not([value])::-webkit-progress-bar {\n",
       "        background: repeating-linear-gradient(45deg, #7e7e7e, #7e7e7e 10px, #5c5c5c 10px, #5c5c5c 20px);\n",
       "    }\n",
       "    .progress-bar-interrupted, .progress-bar-interrupted::-webkit-progress-bar {\n",
       "        background: #F44336;\n",
       "    }\n",
       "</style>\n"
      ],
      "text/plain": [
       "<IPython.core.display.HTML object>"
      ]
     },
     "metadata": {},
     "output_type": "display_data"
    },
    {
     "data": {
      "text/html": [
       "<table border=\"1\" class=\"dataframe\">\n",
       "  <thead>\n",
       "    <tr style=\"text-align: left;\">\n",
       "      <th>epoch</th>\n",
       "      <th>train_loss</th>\n",
       "      <th>valid_loss</th>\n",
       "      <th>time</th>\n",
       "    </tr>\n",
       "  </thead>\n",
       "  <tbody>\n",
       "    <tr>\n",
       "      <td>0</td>\n",
       "      <td>0.646679</td>\n",
       "      <td>0.572973</td>\n",
       "      <td>01:38</td>\n",
       "    </tr>\n",
       "    <tr>\n",
       "      <td>1</td>\n",
       "      <td>0.565832</td>\n",
       "      <td>0.560660</td>\n",
       "      <td>01:39</td>\n",
       "    </tr>\n",
       "  </tbody>\n",
       "</table>"
      ],
      "text/plain": [
       "<IPython.core.display.HTML object>"
      ]
     },
     "metadata": {},
     "output_type": "display_data"
    }
   ],
   "source": [
    "text_learner.fit(2)"
   ]
  },
  {
   "cell_type": "markdown",
   "id": "fffd6312",
   "metadata": {},
   "source": [
    "### Ideas that haven't worked"
   ]
  },
  {
   "cell_type": "code",
   "execution_count": null,
   "id": "c3a93dd2",
   "metadata": {
    "tags": []
   },
   "outputs": [],
   "source": [
    "train_DataLoader=DataLoader(dataset=ds_train,batch_size=8,shuffle=True,device='cpu')\n",
    "eval_DataLoader=DataLoader(dataset=ds_eval,batch_size=8,shuffle=True,device='cpu')"
   ]
  },
  {
   "cell_type": "code",
   "execution_count": null,
   "id": "ee4a2082",
   "metadata": {},
   "outputs": [],
   "source": [
    "def collate_fn(batch):\n",
    "    pdb.set_trace()\n",
    "    batch_tok=data_collator(batch[0])\n",
    "    return batch_tok[0]['input_ids'],batch_tok[0]['attention_masks'],batch_tok[0]['token_type_ids'],batch[1]"
   ]
  },
  {
   "cell_type": "code",
   "execution_count": null,
   "id": "fa6bd76e",
   "metadata": {
    "tags": []
   },
   "outputs": [],
   "source": [
    "class DropOutput(Callback):\n",
    "    def after_pred(self): self.learn.pred = self.pred[0]"
   ]
  }
 ],
 "metadata": {
  "kernelspec": {
   "display_name": "Python 3 (ipykernel)",
   "language": "python",
   "name": "python3"
  },
  "language_info": {
   "codemirror_mode": {
    "name": "ipython",
    "version": 3
   },
   "file_extension": ".py",
   "mimetype": "text/x-python",
   "name": "python",
   "nbconvert_exporter": "python",
   "pygments_lexer": "ipython3",
   "version": "3.10.6"
  }
 },
 "nbformat": 4,
 "nbformat_minor": 5
}
